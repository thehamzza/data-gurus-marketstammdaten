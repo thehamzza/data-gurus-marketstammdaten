{
 "cells": [
  {
   "cell_type": "code",
   "execution_count": 1,
   "id": "ebd79cea-ae24-4d00-a505-69605c3b676b",
   "metadata": {},
   "outputs": [
    {
     "name": "stdout",
     "output_type": "stream",
     "text": [
      "Requirement already satisfied: lxml in /opt/conda/lib/python3.10/site-packages (4.9.1)\n",
      "Note: you may need to restart the kernel to use updated packages.\n"
     ]
    }
   ],
   "source": [
    "pip install lxml \n"
   ]
  },
  {
   "cell_type": "code",
   "execution_count": 2,
   "id": "9d8c6dd1-8438-413f-8286-ff4051569aed",
   "metadata": {},
   "outputs": [
    {
     "name": "stdout",
     "output_type": "stream",
     "text": [
      "<pyspark.sql.session.SparkSession object at 0x7f0f640f9150>\n"
     ]
    }
   ],
   "source": [
    "import pyspark\n",
    "from pyspark.sql import SparkSession\n",
    "spark = SparkSession.builder.master(\"local[1]\").appName(\"data-gurus\").getOrCreate()\n",
    "print(spark)"
   ]
  },
  {
   "cell_type": "code",
   "execution_count": 3,
   "id": "6b941ffa-2ed2-4d12-93f9-3345b69136d6",
   "metadata": {},
   "outputs": [],
   "source": [
    "import pandas as pd\n",
    "\n",
    "df = pd.read_xml(\"/home/jovyan/work/AAAA/EinheitenSolar_3.xml\", parser=\"lxml\", encoding= \"utf-16\")\n",
    "\n",
    "#df = pd.read_xml(\"/home/jovyan/work/persons.xml\", xpath=\".//person\",parser=\"lxml\" , encoding=\"utf-8\")\n"
   ]
  },
  {
   "cell_type": "code",
   "execution_count": 4,
   "id": "b466f78d-5221-4084-8944-bf80d97b7482",
   "metadata": {},
   "outputs": [
    {
     "name": "stdout",
     "output_type": "stream",
     "text": [
      "<class 'pandas.core.frame.DataFrame'>\n",
      "RangeIndex: 100000 entries, 0 to 99999\n",
      "Data columns (total 63 columns):\n",
      " #   Column                                    Non-Null Count   Dtype  \n",
      "---  ------                                    --------------   -----  \n",
      " 0   EinheitMastrNummer                        100000 non-null  object \n",
      " 1   DatumLetzteAktualisierung                 100000 non-null  object \n",
      " 2   LokationMaStRNummer                       99799 non-null   object \n",
      " 3   NetzbetreiberpruefungStatus               100000 non-null  int64  \n",
      " 4   NetzbetreiberpruefungDatum                99878 non-null   object \n",
      " 5   AnlagenbetreiberMastrNummer               99921 non-null   object \n",
      " 6   Land                                      100000 non-null  int64  \n",
      " 7   Bundesland                                99995 non-null   float64\n",
      " 8   Landkreis                                 99995 non-null   object \n",
      " 9   Gemeinde                                  99995 non-null   object \n",
      " 10  Gemeindeschluessel                        99995 non-null   float64\n",
      " 11  Postleitzahl                              100000 non-null  int64  \n",
      " 12  Ort                                       100000 non-null  object \n",
      " 13  Registrierungsdatum                       100000 non-null  object \n",
      " 14  Inbetriebnahmedatum                       99878 non-null   object \n",
      " 15  EinheitSystemstatus                       100000 non-null  int64  \n",
      " 16  EinheitBetriebsstatus                     100000 non-null  int64  \n",
      " 17  NichtVorhandenInMigriertenEinheiten       100000 non-null  int64  \n",
      " 18  NameStromerzeugungseinheit                100000 non-null  object \n",
      " 19  Weic_nv                                   100000 non-null  int64  \n",
      " 20  Kraftwerksnummer_nv                       100000 non-null  int64  \n",
      " 21  Energietraeger                            100000 non-null  int64  \n",
      " 22  Bruttoleistung                            100000 non-null  float64\n",
      " 23  Nettonennleistung                         100000 non-null  float64\n",
      " 24  FernsteuerbarkeitNb                       97976 non-null   float64\n",
      " 25  Einspeisungsart                           99057 non-null   float64\n",
      " 26  ZugeordneteWirkleistungWechselrichter     99991 non-null   float64\n",
      " 27  GemeinsamerWechselrichterMitSpeicher      98943 non-null   float64\n",
      " 28  AnzahlModule                              97796 non-null   float64\n",
      " 29  Lage                                      99996 non-null   float64\n",
      " 30  Leistungsbegrenzung                       98409 non-null   float64\n",
      " 31  EinheitlicheAusrichtungUndNeigungswinkel  98549 non-null   float64\n",
      " 32  Hauptausrichtung                          98778 non-null   float64\n",
      " 33  HauptausrichtungNeigungswinkel            98038 non-null   float64\n",
      " 34  Nutzungsbereich                           91732 non-null   float64\n",
      " 35  EegMaStRNummer                            99884 non-null   object \n",
      " 36  Nebenausrichtung                          16370 non-null   float64\n",
      " 37  NebenausrichtungNeigungswinkel            16141 non-null   float64\n",
      " 38  DatumDesBetreiberwechsels                 2877 non-null    object \n",
      " 39  DatumRegistrierungDesBetreiberwechsels    2877 non-null    object \n",
      " 40  GeplantesInbetriebnahmedatum              122 non-null     object \n",
      " 41  Strasse                                   9577 non-null    object \n",
      " 42  StrasseNichtGefunden                      10202 non-null   float64\n",
      " 43  Hausnummer                                9199 non-null    object \n",
      " 44  Hausnummer_nv                             10202 non-null   float64\n",
      " 45  HausnummerNichtGefunden                   10202 non-null   float64\n",
      " 46  Laengengrad                               10202 non-null   float64\n",
      " 47  Breitengrad                               10202 non-null   float64\n",
      " 48  FernsteuerbarkeitDv                       3513 non-null    float64\n",
      " 49  FernsteuerbarkeitDr                       3438 non-null    float64\n",
      " 50  Gemarkung                                 1535 non-null    object \n",
      " 51  FlurFlurstuecknummern                     1535 non-null    object \n",
      " 52  InAnspruchGenommeneFlaeche                675 non-null     float64\n",
      " 53  ArtDerFlaecheIds                          687 non-null     object \n",
      " 54  Adresszusatz                              649 non-null     object \n",
      " 55  AnschlussAnHoechstOderHochSpannung        285 non-null     float64\n",
      " 56  DatumEndgueltigeStilllegung               114 non-null     object \n",
      " 57  InAnspruchGenommeneAckerflaeche           209 non-null     float64\n",
      " 58  GenMastrNummer                            45 non-null      object \n",
      " 59  DatumBeginnVoruebergehendeStilllegung     13 non-null      object \n",
      " 60  Einsatzverantwortlicher                   4 non-null       float64\n",
      " 61  Kraftwerksnummer                          1 non-null       object \n",
      " 62  DatumWiederaufnahmeBetrieb                7 non-null       object \n",
      "dtypes: float64(28), int64(9), object(26)\n",
      "memory usage: 48.1+ MB\n",
      "None\n"
     ]
    }
   ],
   "source": [
    "#print(df)\n",
    "print(df.info())"
   ]
  },
  {
   "cell_type": "code",
   "execution_count": 5,
   "id": "2b5e7158-f866-48b4-86c6-6d84b38980bf",
   "metadata": {},
   "outputs": [],
   "source": [
    "import warnings\n",
    "warnings.filterwarnings('ignore') \n",
    "\n",
    "sdf = spark.createDataFrame(df)"
   ]
  },
  {
   "cell_type": "code",
   "execution_count": 6,
   "id": "5def4cc7-e792-4a23-9134-d5abac7c64a4",
   "metadata": {},
   "outputs": [
    {
     "name": "stdout",
     "output_type": "stream",
     "text": [
      "+------------------+-------------------------+-------------------+---------------------------+--------------------------+---------------------------+----+----------+--------------------+--------------------+------------------+------------+--------------------+-------------------+-------------------+-------------------+---------------------+-----------------------------------+--------------------------+-------+-------------------+--------------+--------------+-----------------+-------------------+---------------+-------------------------------------+------------------------------------+------------+-----+-------------------+----------------------------------------+----------------+------------------------------+---------------+---------------+----------------+------------------------------+-------------------------+--------------------------------------+----------------------------+-------+--------------------+----------+-------------+-----------------------+-----------+-----------+-------------------+-------------------+---------+---------------------+--------------------------+----------------+------------+----------------------------------+---------------------------+-------------------------------+--------------+-------------------------------------+-----------------------+----------------+--------------------------+\n",
      "|EinheitMastrNummer|DatumLetzteAktualisierung|LokationMaStRNummer|NetzbetreiberpruefungStatus|NetzbetreiberpruefungDatum|AnlagenbetreiberMastrNummer|Land|Bundesland|           Landkreis|            Gemeinde|Gemeindeschluessel|Postleitzahl|                 Ort|Registrierungsdatum|Inbetriebnahmedatum|EinheitSystemstatus|EinheitBetriebsstatus|NichtVorhandenInMigriertenEinheiten|NameStromerzeugungseinheit|Weic_nv|Kraftwerksnummer_nv|Energietraeger|Bruttoleistung|Nettonennleistung|FernsteuerbarkeitNb|Einspeisungsart|ZugeordneteWirkleistungWechselrichter|GemeinsamerWechselrichterMitSpeicher|AnzahlModule| Lage|Leistungsbegrenzung|EinheitlicheAusrichtungUndNeigungswinkel|Hauptausrichtung|HauptausrichtungNeigungswinkel|Nutzungsbereich| EegMaStRNummer|Nebenausrichtung|NebenausrichtungNeigungswinkel|DatumDesBetreiberwechsels|DatumRegistrierungDesBetreiberwechsels|GeplantesInbetriebnahmedatum|Strasse|StrasseNichtGefunden|Hausnummer|Hausnummer_nv|HausnummerNichtGefunden|Laengengrad|Breitengrad|FernsteuerbarkeitDv|FernsteuerbarkeitDr|Gemarkung|FlurFlurstuecknummern|InAnspruchGenommeneFlaeche|ArtDerFlaecheIds|Adresszusatz|AnschlussAnHoechstOderHochSpannung|DatumEndgueltigeStilllegung|InAnspruchGenommeneAckerflaeche|GenMastrNummer|DatumBeginnVoruebergehendeStilllegung|Einsatzverantwortlicher|Kraftwerksnummer|DatumWiederaufnahmeBetrieb|\n",
      "+------------------+-------------------------+-------------------+---------------------------+--------------------------+---------------------------+----+----------+--------------------+--------------------+------------------+------------+--------------------+-------------------+-------------------+-------------------+---------------------+-----------------------------------+--------------------------+-------+-------------------+--------------+--------------+-----------------+-------------------+---------------+-------------------------------------+------------------------------------+------------+-----+-------------------+----------------------------------------+----------------+------------------------------+---------------+---------------+----------------+------------------------------+-------------------------+--------------------------------------+----------------------------+-------+--------------------+----------+-------------+-----------------------+-----------+-----------+-------------------+-------------------+---------+---------------------+--------------------------+----------------+------------+----------------------------------+---------------------------+-------------------------------+--------------+-------------------------------------+-----------------------+----------------+--------------------------+\n",
      "|   SEE955250044550|     2019-05-31T23:12:...|    SEL925812015687|                          0|                2019-06-05|            ABR940204954986|  84|    1412.0|     Saarpfalz-Kreis|         Blieskastel|       1.0045112E7|       66440|         Blieskastel|         2019-06-01|         1912-07-11|                472|                   35|                                  0|              Hausdach Ost|      0|                  0|          2495|          4.37|             4.37|                1.0|          689.0|                               3000.0|                              1450.0|        24.0|853.0|              802.0|                                     1.0|           697.0|                         809.0|          713.0|EEG979957199962|             NaN|                           NaN|                     null|                                  null|                        null|   null|                 NaN|      null|          NaN|                    NaN|        NaN|        NaN|                NaN|                NaN|     null|                 null|                       NaN|            null|        null|                               NaN|                       null|                            NaN|          null|                                 null|                    NaN|            null|                      null|\n",
      "|   SEE981844034188|     2020-10-22T15:00:...|    SEL928353856245|                          1|                2021-03-25|            ABR932515870437|  84|    1405.0|               Fulda|           Eiterfeld|         6631007.0|       36132|           Eiterfeld|         2019-06-01|         2004-07-16|                472|                   35|                                  0|                  Hausdach|      0|                  0|          2495|          12.8|              9.2|                0.0|          688.0|                                  9.2|                              1450.0|        80.0|853.0|              802.0|                                     1.0|           699.0|                         809.0|          713.0|EEG974319359497|             NaN|                           NaN|                     null|                                  null|                        null|   null|                 NaN|      null|          NaN|                    NaN|        NaN|        NaN|                NaN|                NaN|     null|                 null|                       NaN|            null|        null|                               NaN|                       null|                            NaN|          null|                                 null|                    NaN|            null|                      null|\n",
      "|   SEE950275425551|     2019-08-12T13:32:...|    SEL986816695756|                          1|                2019-08-17|            ABR973689024486|  84|    1409.0|           Gütersloh|            Rietberg|         5754032.0|       33397|            Rietberg|         2019-06-01|         2010-06-11|                472|                   35|                                  0|                   PV DFaM|      0|                  0|          2495|         6.975|              3.0|                0.0|          689.0|                                  3.0|                              1450.0|        30.0|853.0|              802.0|                                     1.0|           699.0|                         809.0|          713.0|EEG931129162709|             NaN|                           NaN|                     null|                                  null|                        null|   null|                 NaN|      null|          NaN|                    NaN|        NaN|        NaN|                NaN|                NaN|     null|                 null|                       NaN|            null|        null|                               NaN|                       null|                            NaN|          null|                                 null|                    NaN|            null|                      null|\n",
      "|   SEE976694559196|     2019-06-01T10:23:...|    SEL902546587871|                          1|                2020-06-10|            ABR972254422672|  84|    1403.0|           Rosenheim|          Bad Endorf|         9187128.0|       83093|          Bad Endorf|         2019-06-01|         2018-04-09|                472|                   35|                                  0|                 La*E*2018|      0|                  0|          2495|          32.4|             30.0|                1.0|          689.0|                                 30.0|                              1450.0|       120.0|853.0|              802.0|                                     1.0|           699.0|                         809.0|          716.0|EEG912556047999|             NaN|                           NaN|                     null|                                  null|                        null|   null|                 NaN|      null|          NaN|                    NaN|        NaN|        NaN|                NaN|                NaN|     null|                 null|                       NaN|            null|        null|                               NaN|                       null|                            NaN|          null|                                 null|                    NaN|            null|                      null|\n",
      "|   SEE915557673167|     2019-06-27T21:13:...|    SEL926750156692|                          1|                2019-06-28|            ABR926291270949|  84|    1409.0|           Wuppertal|           Wuppertal|         5124000.0|       42327|           Wuppertal|         2019-06-01|         2009-11-19|                472|                   35|                                  0|                     Anbau|      0|                  0|          2495|          1.53|             1.53|                0.0|          688.0|                                 1.53|                              1450.0|         6.0|853.0|              802.0|                                     1.0|           701.0|                         809.0|          713.0|EEG976598010922|             NaN|                           NaN|                     null|                                  null|                        null|   null|                 NaN|      null|          NaN|                    NaN|        NaN|        NaN|                NaN|                NaN|     null|                 null|                       NaN|            null|        null|                               NaN|                       null|                            NaN|          null|                                 null|                    NaN|            null|                      null|\n",
      "|   SEE926240545951|     2019-09-19T20:30:...|    SEL915600508132|                          1|                2019-10-15|            ABR938869105003|  84|    1400.0|           Oberhavel|         Oranienburg|       1.2065256E7|       16515|         Oranienburg|         2019-06-01|         2010-03-24|                472|                   35|                                  0|                  Hausdach|      0|                  0|          2495|          8.28|              4.0|                0.0|          688.0|                                  4.0|                              1450.0|        46.0|853.0|              802.0|                                     1.0|           699.0|                         809.0|          713.0|EEG908094337043|             NaN|                           NaN|                     null|                                  null|                        null|   null|                 NaN|      null|          NaN|                    NaN|        NaN|        NaN|                NaN|                NaN|     null|                 null|                       NaN|            null|        null|                               NaN|                       null|                            NaN|          null|                                 null|                    NaN|            null|                      null|\n",
      "|   SEE950153847598|     2019-06-01T10:48:...|    SEL987533806609|                          0|                2019-11-27|            ABR968652618014|  84|    1405.0|  Schwalm-Eder-Kreis|     Borken (Hessen)|         6634001.0|       34582|              Borken|         2019-06-01|         2018-07-26|                472|                   35|                                  0|      Photovoltaikanlage 1|      0|                  0|          2495|          9.72|             9.72|                0.0|          689.0|                                 10.0|                              1449.0|        36.0|853.0|              803.0|                                     1.0|           699.0|                         809.0|          713.0|EEG925945104364|             NaN|                           NaN|                     null|                                  null|                        null|   null|                 NaN|      null|          NaN|                    NaN|        NaN|        NaN|                NaN|                NaN|     null|                 null|                       NaN|            null|        null|                               NaN|                       null|                            NaN|          null|                                 null|                    NaN|            null|                      null|\n",
      "|   SEE904688836565|     2019-06-01T10:42:...|    SEL942213474196|                          0|                2019-09-20|            ABR933146019943|  84|    1402.0|           Pforzheim|           Pforzheim|         8231000.0|       75179|           Pforzheim|         2019-06-01|         2008-11-05|                472|                   35|                                  0|                  Hausdach|      0|                  0|          2495|           7.2|              6.0|                0.0|          688.0|                                  6.0|                              1450.0|        32.0|853.0|              802.0|                                     1.0|           700.0|                         809.0|          713.0|EEG943311356032|             NaN|                           NaN|                     null|                                  null|                        null|   null|                 NaN|      null|          NaN|                    NaN|        NaN|        NaN|                NaN|                NaN|     null|                 null|                       NaN|            null|        null|                               NaN|                       null|                            NaN|          null|                                 null|                    NaN|            null|                      null|\n",
      "|   SEE947464136718|     2019-06-06T09:11:...|    SEL919446191008|                          1|                2019-06-06|            ABR906066440395|  84|    1409.0|               Düren|              Jülich|         5358024.0|       52428|              Jülich|         2019-06-01|         2012-07-26|                472|                   35|                                  0|          Winterbachstr. 6|      0|                  0|          2495|          7.44|             7.44|                0.0|          689.0|                                  8.3|                              1450.0|        31.0|853.0|              803.0|                                     1.0|           699.0|                         808.0|          713.0|EEG972968393114|             NaN|                           NaN|                     null|                                  null|                        null|   null|                 NaN|      null|          NaN|                    NaN|        NaN|        NaN|                NaN|                NaN|     null|                 null|                       NaN|            null|        null|                               NaN|                       null|                            NaN|          null|                                 null|                    NaN|            null|                      null|\n",
      "|   SEE967780244522|     2019-12-19T18:20:...|    SEL955239538490|                          1|                2020-02-14|            ABR912438086412|  84|    1415.0|           Sonneberg|              Föritz|       1.6072005E7|       96524|              Föritz|         2019-06-01|         2013-02-27|                472|                   35|                                  0|                  Hausdach|      0|                  0|          2495|          5.63|             5.63|                0.0|          689.0|                                  6.0|                              1450.0|        23.0|853.0|              803.0|                                     1.0|           700.0|                         806.0|          713.0|EEG905685889103|             NaN|                           NaN|                     null|                                  null|                        null|   null|                 NaN|      null|          NaN|                    NaN|        NaN|        NaN|                NaN|                NaN|     null|                 null|                       NaN|            null|        null|                               NaN|                       null|                            NaN|          null|                                 null|                    NaN|            null|                      null|\n",
      "|   SEE978499216373|     2020-06-06T07:40:...|    SEL967711803910|                          1|                2020-07-13|            ABR901067853236|  84|    1403.0|     Straubing-Bogen|          Neukirchen|         9278154.0|       94362|          Neukirchen|         2019-06-01|         2004-10-14|                472|                   35|                                  0|                 PV Anlage|      0|                  0|          2495|           7.2|              7.0|                0.0|          688.0|                                  7.0|                              1450.0|        30.0|853.0|              802.0|                                     1.0|           699.0|                         809.0|          713.0|EEG994168587971|             NaN|                           NaN|                     null|                                  null|                        null|   null|                 NaN|      null|          NaN|                    NaN|        NaN|        NaN|                NaN|                NaN|     null|                 null|                       NaN|            null|        null|                               NaN|                       null|                            NaN|          null|                                 null|                    NaN|            null|                      null|\n",
      "|   SEE971921747063|     2019-08-20T08:46:...|    SEL985777585571|                          1|                2019-08-20|            ABR947113739970|  84|    1408.0|       Wilhelmshaven|       Wilhelmshaven|         3405000.0|       26386|       Wilhelmshaven|         2019-06-01|         2013-12-19|                472|                   35|                                  0|                    Garage|      0|                  0|          2495|          2.94|              2.2|                0.0|          689.0|                                  2.2|                              1450.0|        12.0|853.0|              803.0|                                     1.0|           700.0|                         809.0|          713.0|EEG926211542040|             NaN|                           NaN|                     null|                                  null|                        null|   null|                 NaN|      null|          NaN|                    NaN|        NaN|        NaN|                NaN|                NaN|     null|                 null|                       NaN|            null|        null|                               NaN|                       null|                            NaN|          null|                                 null|                    NaN|            null|                      null|\n",
      "|   SEE929096999558|     2019-06-01T10:40:...|    SEL998032329452|                          0|                2019-11-22|            ABR949884958819|  84|    1411.0|        Dithmarschen|             Meldorf|         1051074.0|       25704|             Meldorf|         2019-06-01|         2017-06-22|                472|                   35|                                  0|          Hausdach_Meldorf|      0|                  0|          2495|          6.89|              6.0|                1.0|          689.0|                                  6.0|                              1450.0|        26.0|853.0|             1535.0|                                     NaN|           699.0|                         808.0|          713.0|EEG975011541173|             NaN|                           NaN|                     null|                                  null|                        null|   null|                 NaN|      null|          NaN|                    NaN|        NaN|        NaN|                NaN|                NaN|     null|                 null|                       NaN|            null|        null|                               NaN|                       null|                            NaN|          null|                                 null|                    NaN|            null|                      null|\n",
      "|   SEE915061146904|     2019-08-22T17:19:...|    SEL935294651396|                          1|                2019-08-28|            ABR932219894098|  84|    1402.0|            Tübingen|            Tübingen|         8416041.0|       72072|            Tübingen|         2019-06-01|         2012-08-09|                472|                   35|                                  0|                G8-PV-Dach|      0|                  0|          2495|           6.3|              6.3|                0.0|          689.0|                                 10.0|                              1450.0|        30.0|853.0|              802.0|                                     0.0|           698.0|                         810.0|          713.0|EEG900417705409|           699.0|                         810.0|                     null|                                  null|                        null|   null|                 NaN|      null|          NaN|                    NaN|        NaN|        NaN|                NaN|                NaN|     null|                 null|                       NaN|            null|        null|                               NaN|                       null|                            NaN|          null|                                 null|                    NaN|            null|                      null|\n",
      "|   SEE986594445451|     2020-09-28T07:57:...|    SEL956336013071|                          1|                2020-09-30|            ABR994123549945|  84|    1402.0|           Böblingen|           Renningen|         8115041.0|       71272|           Renningen|         2019-06-01|         2009-11-27|                472|                   35|                                  0|                     Solar|      0|                  0|          2495|          4.32|              3.8|                0.0|          688.0|                                  3.8|                              1450.0|        24.0|853.0|                NaN|                                     1.0|           698.0|                         809.0|          713.0|EEG952736802161|             NaN|                           NaN|                     null|                                  null|                        null|   null|                 NaN|      null|          NaN|                    NaN|        NaN|        NaN|                NaN|                NaN|     null|                 null|                       NaN|            null|        null|                               NaN|                       null|                            NaN|          null|                                 null|                    NaN|            null|                      null|\n",
      "|   SEE919890485258|     2019-05-31T22:40:...|    SEL984136836453|                          1|                2020-12-08|            ABR967618632460|  84|    1403.0|Neustadt a.d. Ais...|           Uffenheim|         9575168.0|       97215|           Uffenheim|         2019-06-01|         2013-10-29|                472|                   35|                                  0|                   Aufdach|      0|                  0|          2495|          9.18|              7.0|                0.0|          689.0|                                  7.0|                              1450.0|        36.0|853.0|              803.0|                                     0.0|           697.0|                         808.0|          713.0|EEG989840327457|           701.0|                         808.0|                     null|                                  null|                        null|   null|                 NaN|      null|          NaN|                    NaN|        NaN|        NaN|                NaN|                NaN|     null|                 null|                       NaN|            null|        null|                               NaN|                       null|                            NaN|          null|                                 null|                    NaN|            null|                      null|\n",
      "|   SEE953659808650|     2019-06-01T10:50:...|    SEL963072839339|                          1|                2020-07-23|            ABR968610027629|  84|    1402.0|Breisgau-Hochschw...|              Sölden|         8315107.0|       79294|              Sölden|         2019-06-01|         2013-09-23|                472|                   35|                                  0|            Solar Hausdach|      0|                  0|          2495|           3.1|              3.0|                1.0|          689.0|                                  3.0|                              1448.0|        16.0|853.0|              802.0|                                     1.0|           699.0|                         808.0|          713.0|EEG947623434693|             NaN|                           NaN|                     null|                                  null|                        null|   null|                 NaN|      null|          NaN|                    NaN|        NaN|        NaN|                NaN|                NaN|     null|                 null|                       NaN|            null|        null|                               NaN|                       null|                            NaN|          null|                                 null|                    NaN|            null|                      null|\n",
      "|   SEE905148390832|     2022-09-30T12:57:...|    SEL985555482795|                          1|                2022-10-01|            ABR955013300268|  84|    1410.0|Eifelkreis Bitbur...|        Strickscheid|         7232315.0|       54597|        Strickscheid|         2019-06-01|         2015-08-13|                472|                   35|                                  0|                  Stall EV|      0|                  0|          2495|          29.5|             29.5|                0.0|          689.0|                                 30.0|                              1450.0|       119.0|853.0|              802.0|                                     1.0|           699.0|                         810.0|          716.0|EEG900146281854|             NaN|                           NaN|               2022-07-01|                            2022-07-11|                        null|   null|                 NaN|      null|          NaN|                    NaN|        NaN|        NaN|                NaN|                NaN|     null|                 null|                       NaN|            null|        null|                               NaN|                       null|                            NaN|          null|                                 null|                    NaN|            null|                      null|\n",
      "|   SEE908272429041|     2019-06-01T11:49:...|    SEL959284998391|                          0|                2020-06-23|            ABR982891330094|  84|    1402.0|          Ravensburg| Leutkirch im Allgäu|         8436055.0|       88299|           Leutkirch|         2019-06-01|         2010-06-16|                472|                   35|                                  0|               Sonnenstrom|      0|                  0|          2495|          5.85|             5.85|                0.0|          688.0|                                  5.9|                                 NaN|        26.0|853.0|              802.0|                                     1.0|           699.0|                         809.0|          713.0|EEG934126566549|             NaN|                           NaN|                     null|                                  null|                        null|   null|                 NaN|      null|          NaN|                    NaN|        NaN|        NaN|                NaN|                NaN|     null|                 null|                       NaN|            null|        null|                               NaN|                       null|                            NaN|          null|                                 null|                    NaN|            null|                      null|\n",
      "|   SEE900221687243|     2019-08-16T22:37:...|    SEL955902071231|                          1|                2019-08-19|            ABR918515644629|  84|    1402.0|Schwarzwald-Baar-...|Villingen-Schwenn...|         8326074.0|       78052|Villingen-Schwenn...|         2019-06-01|         2013-03-28|                472|                   35|                                  0|                     Solar|      0|                  0|          2495|         14.21|            14.21|                1.0|          689.0|                                 15.0|                              1450.0|        58.0|853.0|              802.0|                                     1.0|           700.0|                         808.0|          713.0|EEG933853327188|             NaN|                           NaN|                     null|                                  null|                        null|   null|                 NaN|      null|          NaN|                    NaN|        NaN|        NaN|                NaN|                NaN|     null|                 null|                       NaN|            null|        null|                               NaN|                       null|                            NaN|          null|                                 null|                    NaN|            null|                      null|\n",
      "+------------------+-------------------------+-------------------+---------------------------+--------------------------+---------------------------+----+----------+--------------------+--------------------+------------------+------------+--------------------+-------------------+-------------------+-------------------+---------------------+-----------------------------------+--------------------------+-------+-------------------+--------------+--------------+-----------------+-------------------+---------------+-------------------------------------+------------------------------------+------------+-----+-------------------+----------------------------------------+----------------+------------------------------+---------------+---------------+----------------+------------------------------+-------------------------+--------------------------------------+----------------------------+-------+--------------------+----------+-------------+-----------------------+-----------+-----------+-------------------+-------------------+---------+---------------------+--------------------------+----------------+------------+----------------------------------+---------------------------+-------------------------------+--------------+-------------------------------------+-----------------------+----------------+--------------------------+\n",
      "only showing top 20 rows\n",
      "\n",
      "root\n",
      " |-- EinheitMastrNummer: string (nullable = true)\n",
      " |-- DatumLetzteAktualisierung: string (nullable = true)\n",
      " |-- LokationMaStRNummer: string (nullable = true)\n",
      " |-- NetzbetreiberpruefungStatus: long (nullable = true)\n",
      " |-- NetzbetreiberpruefungDatum: string (nullable = true)\n",
      " |-- AnlagenbetreiberMastrNummer: string (nullable = true)\n",
      " |-- Land: long (nullable = true)\n",
      " |-- Bundesland: double (nullable = true)\n",
      " |-- Landkreis: string (nullable = true)\n",
      " |-- Gemeinde: string (nullable = true)\n",
      " |-- Gemeindeschluessel: double (nullable = true)\n",
      " |-- Postleitzahl: long (nullable = true)\n",
      " |-- Ort: string (nullable = true)\n",
      " |-- Registrierungsdatum: string (nullable = true)\n",
      " |-- Inbetriebnahmedatum: string (nullable = true)\n",
      " |-- EinheitSystemstatus: long (nullable = true)\n",
      " |-- EinheitBetriebsstatus: long (nullable = true)\n",
      " |-- NichtVorhandenInMigriertenEinheiten: long (nullable = true)\n",
      " |-- NameStromerzeugungseinheit: string (nullable = true)\n",
      " |-- Weic_nv: long (nullable = true)\n",
      " |-- Kraftwerksnummer_nv: long (nullable = true)\n",
      " |-- Energietraeger: long (nullable = true)\n",
      " |-- Bruttoleistung: double (nullable = true)\n",
      " |-- Nettonennleistung: double (nullable = true)\n",
      " |-- FernsteuerbarkeitNb: double (nullable = true)\n",
      " |-- Einspeisungsart: double (nullable = true)\n",
      " |-- ZugeordneteWirkleistungWechselrichter: double (nullable = true)\n",
      " |-- GemeinsamerWechselrichterMitSpeicher: double (nullable = true)\n",
      " |-- AnzahlModule: double (nullable = true)\n",
      " |-- Lage: double (nullable = true)\n",
      " |-- Leistungsbegrenzung: double (nullable = true)\n",
      " |-- EinheitlicheAusrichtungUndNeigungswinkel: double (nullable = true)\n",
      " |-- Hauptausrichtung: double (nullable = true)\n",
      " |-- HauptausrichtungNeigungswinkel: double (nullable = true)\n",
      " |-- Nutzungsbereich: double (nullable = true)\n",
      " |-- EegMaStRNummer: string (nullable = true)\n",
      " |-- Nebenausrichtung: double (nullable = true)\n",
      " |-- NebenausrichtungNeigungswinkel: double (nullable = true)\n",
      " |-- DatumDesBetreiberwechsels: string (nullable = true)\n",
      " |-- DatumRegistrierungDesBetreiberwechsels: string (nullable = true)\n",
      " |-- GeplantesInbetriebnahmedatum: string (nullable = true)\n",
      " |-- Strasse: string (nullable = true)\n",
      " |-- StrasseNichtGefunden: double (nullable = true)\n",
      " |-- Hausnummer: string (nullable = true)\n",
      " |-- Hausnummer_nv: double (nullable = true)\n",
      " |-- HausnummerNichtGefunden: double (nullable = true)\n",
      " |-- Laengengrad: double (nullable = true)\n",
      " |-- Breitengrad: double (nullable = true)\n",
      " |-- FernsteuerbarkeitDv: double (nullable = true)\n",
      " |-- FernsteuerbarkeitDr: double (nullable = true)\n",
      " |-- Gemarkung: string (nullable = true)\n",
      " |-- FlurFlurstuecknummern: string (nullable = true)\n",
      " |-- InAnspruchGenommeneFlaeche: double (nullable = true)\n",
      " |-- ArtDerFlaecheIds: string (nullable = true)\n",
      " |-- Adresszusatz: string (nullable = true)\n",
      " |-- AnschlussAnHoechstOderHochSpannung: double (nullable = true)\n",
      " |-- DatumEndgueltigeStilllegung: string (nullable = true)\n",
      " |-- InAnspruchGenommeneAckerflaeche: double (nullable = true)\n",
      " |-- GenMastrNummer: string (nullable = true)\n",
      " |-- DatumBeginnVoruebergehendeStilllegung: string (nullable = true)\n",
      " |-- Einsatzverantwortlicher: double (nullable = true)\n",
      " |-- Kraftwerksnummer: string (nullable = true)\n",
      " |-- DatumWiederaufnahmeBetrieb: string (nullable = true)\n",
      "\n"
     ]
    }
   ],
   "source": [
    "sdf.show()\n",
    "sdf.printSchema()"
   ]
  }
 ],
 "metadata": {
  "kernelspec": {
   "display_name": "Python 3 (ipykernel)",
   "language": "python",
   "name": "python3"
  },
  "language_info": {
   "codemirror_mode": {
    "name": "ipython",
    "version": 3
   },
   "file_extension": ".py",
   "mimetype": "text/x-python",
   "name": "python",
   "nbconvert_exporter": "python",
   "pygments_lexer": "ipython3",
   "version": "3.10.6"
  }
 },
 "nbformat": 4,
 "nbformat_minor": 5
}
